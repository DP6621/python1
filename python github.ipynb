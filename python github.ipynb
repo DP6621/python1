{
 "cells": [
  {
   "cell_type": "code",
   "execution_count": 6,
   "metadata": {},
   "outputs": [
    {
     "ename": "SyntaxError",
     "evalue": "invalid syntax (<ipython-input-6-f5f7274caa2f>, line 30)",
     "output_type": "error",
     "traceback": [
      "\u001b[1;36m  File \u001b[1;32m\"<ipython-input-6-f5f7274caa2f>\"\u001b[1;36m, line \u001b[1;32m30\u001b[0m\n\u001b[1;33m    x in WhitbyREData:\u001b[0m\n\u001b[1;37m                      ^\u001b[0m\n\u001b[1;31mSyntaxError\u001b[0m\u001b[1;31m:\u001b[0m invalid syntax\n"
     ]
    }
   ],
   "source": [
    "import openpyxl\n",
    "from array import *\n",
    "wb = openpyxl.load_workbook('realestatedata.xlsx')\n",
    "mysheets = wb.sheetnames\n",
    "print(\"print all sheets in Excel Workbook\")\n",
    "for x in mysheets:\n",
    "    print(x)\n",
    "    \n",
    "realestatedata = wb['stouffville']\n",
    "print(\"print type sheet\")\n",
    "print(type(realestatedata))\n",
    "print(\"sheet name\")\n",
    "print(realestatedata.title)\n",
    "WhitbyREData = [\"start\"]\n",
    "\n",
    "for i in range(1, 190):\n",
    "    price = realestatedata.cell(row=i, column=4).value;\n",
    "    print(price);\n",
    "    houseType = realestatedata.cell(row=i, column=1).value;\n",
    "    print(houseType);\n",
    "    description = realestatedata.cell(row=i, column=2).value;\n",
    "    print(description);\n",
    "    numberBedrooms = realestatedata.cell(row=i, column=3).value;\n",
    "    print(numberBedrooms);\n",
    "    #type, description, number of bedrooms, price\n",
    "    solddetails = (houseType, description, numberBedrooms, Price)\n",
    "\n",
    "WhitbyREData.append(solddetails)\n",
    "    \n",
    "x in WhitbyREData:\n",
    "    #print(x[0]), x[1], x[2], x[3])\n",
    "    if x[0] == \"DETACHED\":\n",
    "            print(x[0])\n",
    "\n",
    "# your work: Iterate over the Array : print out only the record for DETACHED"
   ]
  },
  {
   "cell_type": "code",
   "execution_count": null,
   "metadata": {},
   "outputs": [],
   "source": []
  },
  {
   "cell_type": "code",
   "execution_count": null,
   "metadata": {},
   "outputs": [],
   "source": []
  }
 ],
 "metadata": {
  "kernelspec": {
   "display_name": "Python 3",
   "language": "python",
   "name": "python3"
  },
  "language_info": {
   "codemirror_mode": {
    "name": "ipython",
    "version": 3
   },
   "file_extension": ".py",
   "mimetype": "text/x-python",
   "name": "python",
   "nbconvert_exporter": "python",
   "pygments_lexer": "ipython3",
   "version": "3.8.5"
  }
 },
 "nbformat": 4,
 "nbformat_minor": 4
}
